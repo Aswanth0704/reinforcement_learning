{
 "cells": [
  {
   "cell_type": "code",
   "execution_count": 1,
   "metadata": {},
   "outputs": [],
   "source": [
    "import gymnasium as gym\n",
    "import numpy as np\n",
    "import random\n",
    "import imageio\n",
    "import os\n",
    "import tqdm\n",
    "from tqdm.notebook import tqdm"
   ]
  },
  {
   "cell_type": "markdown",
   "metadata": {},
   "source": [
    "Create the FrozenLake-v1 environemnt from gymnasium: [FrozenLake-v1](https://gymnasium.farama.org/environments/toy_text/frozen_lake/)\n"
   ]
  },
  {
   "cell_type": "code",
   "execution_count": 2,
   "metadata": {},
   "outputs": [
    {
     "name": "stdout",
     "output_type": "stream",
     "text": [
      "------------------------Observation space------------------------\n",
      "obeservation space: Discrete(16)\n",
      "size of observation space: 16\n",
      "Sample observation: 2\n",
      "------------------------Action space------------------------\n",
      "action space: Discrete(4)\n",
      "number of possible actions: 4\n",
      "sample action: 3\n"
     ]
    }
   ],
   "source": [
    "# create env: lets create a non-slippery version. \n",
    "# We want to get a video so set render_mode to 'rgb_array'\n",
    "env = gym.make('FrozenLake-v1', map_name = '4x4', is_slippery = False, render_mode = 'rgb_array')\n",
    "# check state and action space\n",
    "print(\"------------------------Observation space------------------------\")\n",
    "print(f'obeservation space: {env.observation_space}')\n",
    "print(f'size of observation space: {env.observation_space.n}')\n",
    "print(f'Sample observation: {env.observation_space.sample()}')\n",
    "\n",
    "print(\"------------------------Action space------------------------\")\n",
    "print(f'action space: {env.action_space}')\n",
    "print(f'number of possible actions: {env.action_space.n}')\n",
    "print(f'sample action: {env.action_space.sample()}')\n"
   ]
  },
  {
   "cell_type": "markdown",
   "metadata": {},
   "source": [
    "![SegmentLocal](frozen_lake.gif \"segment\")"
   ]
  },
  {
   "cell_type": "markdown",
   "metadata": {},
   "source": [
    "The goal of the agent is to reach the last grid by walking only through the frozen grid avoiding the holes. \n",
    "</br>\n",
    "Action space: \n",
    "* 0: left\n",
    "* 1: down\n",
    "* 2: right\n",
    "* 3: up"
   ]
  },
  {
   "cell_type": "markdown",
   "metadata": {},
   "source": [
    "Reward:\n",
    "* reach goal +1\n",
    "* reach hole 0\n",
    "* reach frozen 0"
   ]
  },
  {
   "cell_type": "code",
   "execution_count": 3,
   "metadata": {},
   "outputs": [],
   "source": [
    "\n",
    "\n",
    "# initialize the Qtable with all zeros:\n",
    "def initialize_qtable(n_states, n_actions):\n",
    "    return np.zeros((n_states, n_actions))\n",
    "\n",
    "# policy: lets use epsilon greedy algorithm for taking action and greedy algorithm for training (offline)\n",
    "def greedy_policy(Qtable, state):\n",
    "    return np.argmax(Qtable[state][:])\n",
    "\n",
    "def epsilon_greedy_policy(Qtable, state, epsilon):\n",
    "    # get a random number between 0-1\n",
    "    rand_num = np.random.uniform(0, 1)\n",
    "    # if it is greater than epsilon use greedy: exploitation\n",
    "    if rand_num > epsilon:\n",
    "        action = greedy_policy(Qtable, state)\n",
    "    # else take random action: exploration\n",
    "    else:\n",
    "        action = env.action_space.sample()\n",
    "    return action\n"
   ]
  },
  {
   "cell_type": "code",
   "execution_count": 4,
   "metadata": {},
   "outputs": [],
   "source": [
    "n_states = env.observation_space.n # number of states\n",
    "n_actions = env.action_space.n # number of actions\n",
    "\n",
    "Qtable = initialize_qtable(n_states, n_actions)"
   ]
  },
  {
   "cell_type": "markdown",
   "metadata": {},
   "source": [
    "Lets implement the Q-learning algorithm as below\n",
    "</br>\n",
    "</br>\n",
    "![](Q-learning.jpg)"
   ]
  },
  {
   "cell_type": "code",
   "execution_count": 5,
   "metadata": {},
   "outputs": [],
   "source": [
    "def training(num_training_episodes, learning_rate, decay_rate, gamma, max_epsilon, min_epsilon, max_steps, env, Qtable): \n",
    "    for episode in tqdm(range(num_training_episodes)):\n",
    "        # update the epsilon value for each episode\n",
    "        epsilon = min_epsilon + (max_epsilon - min_epsilon)*np.exp(-decay_rate*episode) \n",
    "        # reset the environment to original state\n",
    "        state, info = env.reset()\n",
    "        step = 0\n",
    "        terminated = False\n",
    "        truncated = False\n",
    "        for step in range(max_steps):\n",
    "            # take action using epsilon greedy policy\n",
    "            action = epsilon_greedy_policy(Qtable, state, epsilon)\n",
    "            # get the next state, rewards \n",
    "            next_state, reward, terminated, truncated, info = env.step(action)\n",
    "            Qtable[state, action] = Qtable[state, action] + learning_rate*(reward + gamma*np.max(Qtable[next_state, :]) - Qtable[state, action])\n",
    "\n",
    "            # if terminated or truncated we will finish this episode\n",
    "            if terminated or truncated:\n",
    "                break\n",
    "\n",
    "            state = next_state\n",
    "    return Qtable"
   ]
  },
  {
   "cell_type": "code",
   "execution_count": 6,
   "metadata": {},
   "outputs": [
    {
     "data": {
      "application/vnd.jupyter.widget-view+json": {
       "model_id": "ac63c730d0a64eed92e771302ecf0a80",
       "version_major": 2,
       "version_minor": 0
      },
      "text/plain": [
       "  0%|          | 0/10000 [00:00<?, ?it/s]"
      ]
     },
     "metadata": {},
     "output_type": "display_data"
    }
   ],
   "source": [
    "# training params\n",
    "num_training_episodes = 10000\n",
    "learning_rate = 0.7\n",
    "\n",
    "# environment parameters\n",
    "env_id = 'FrozenLake-v1' # Name of the env\n",
    "max_steps = 99           # max steps for each episode\n",
    "gamma = 0.95             # discount rate\n",
    "eval_seed = []           # Evaluation seed of the environment.\n",
    "\n",
    "# exploration-exploitation parameters\n",
    "max_epsilon = 1.0   # exploration probability max at the beginning.\n",
    "min_epsilon = 0.05  \n",
    "decay_rate  = 0.0005    # exponential decay rate for exploration probability\n",
    "# num_training_episodes, learning_rate, decay_rate, gamma, max_epsilon, min_epsilon, max_steps, env, Qtable\n",
    "Qtable = training(num_training_episodes,learning_rate, decay_rate, gamma, max_epsilon, min_epsilon, max_steps, env, Qtable)"
   ]
  },
  {
   "cell_type": "code",
   "execution_count": 8,
   "metadata": {},
   "outputs": [
    {
     "name": "stdout",
     "output_type": "stream",
     "text": [
      "[[0.73509189 0.77378094 0.77378094 0.73509189]\n",
      " [0.73509189 0.         0.81450625 0.77378094]\n",
      " [0.77378094 0.857375   0.77378094 0.81450625]\n",
      " [0.81450625 0.         0.77378094 0.77378094]\n",
      " [0.77378094 0.81450625 0.         0.73509189]\n",
      " [0.         0.         0.         0.        ]\n",
      " [0.         0.9025     0.         0.81450625]\n",
      " [0.         0.         0.         0.        ]\n",
      " [0.81450625 0.         0.857375   0.77378094]\n",
      " [0.81450625 0.9025     0.9025     0.        ]\n",
      " [0.857375   0.95       0.         0.857375  ]\n",
      " [0.         0.         0.         0.        ]\n",
      " [0.         0.         0.         0.        ]\n",
      " [0.         0.9025     0.95       0.857375  ]\n",
      " [0.9025     0.95       1.         0.9025    ]\n",
      " [0.         0.         0.         0.        ]]\n"
     ]
    }
   ],
   "source": [
    "print(Qtable) # after training"
   ]
  },
  {
   "cell_type": "markdown",
   "metadata": {},
   "source": [
    "Let's evaluate the method."
   ]
  },
  {
   "cell_type": "code",
   "execution_count": 9,
   "metadata": {},
   "outputs": [],
   "source": [
    "def evaluate_agent(env, max_steps, n_eval_episodes, Qtable, seed):\n",
    "    \"\"\"\n",
    "    Function to evaluate the agent trained using Q-learning. returns mean and std of reward\n",
    "    : param env: gymnasium environment\n",
    "    : param max_steps: max steps in an episode.\n",
    "    : param n_eval_episodes: number of episodes to evaluate the agent\n",
    "    : param Qtable: Qtable after training\n",
    "    : param seed: seed for evaluation\n",
    "    \"\"\"\n",
    "    episode_rewards = []\n",
    "    for episode in tqdm(range(n_eval_episodes)):\n",
    "        if seed:\n",
    "            state, info = env.reset(seed=seed[episode])\n",
    "        else:\n",
    "            state, info = env.reset()\n",
    "        step = 0\n",
    "        truncated = False\n",
    "        terminated = False\n",
    "        total_rewards_ep = 0\n",
    "        for step in range(max_steps):\n",
    "            # action: greedy\n",
    "            action = greedy_policy(Qtable, state)\n",
    "            next_state, reward, terminated, truncated, info = env.step(action)\n",
    "            total_rewards_ep += reward\n",
    "            if terminated or truncated:\n",
    "                break\n",
    "            state = next_state\n",
    "        episode_rewards.append(total_rewards_ep)\n",
    "    mean_reward = np.mean(episode_rewards)\n",
    "    std_reward = np.std(episode_rewards)\n",
    "    return mean_reward, std_reward"
   ]
  },
  {
   "cell_type": "code",
   "execution_count": 11,
   "metadata": {},
   "outputs": [
    {
     "data": {
      "application/vnd.jupyter.widget-view+json": {
       "model_id": "9fbcbe07236b4945a946504a8c877aaa",
       "version_major": 2,
       "version_minor": 0
      },
      "text/plain": [
       "  0%|          | 0/100 [00:00<?, ?it/s]"
      ]
     },
     "metadata": {},
     "output_type": "display_data"
    },
    {
     "name": "stdout",
     "output_type": "stream",
     "text": [
      "Mean_reward=1.00 +/- 0.00\n"
     ]
    }
   ],
   "source": [
    "n_eval_episodes = 100\n",
    "eval_seed = []\n",
    "\n",
    "# Evaluate our Agent\n",
    "mean_reward, std_reward = evaluate_agent(env, max_steps, n_eval_episodes, Qtable, eval_seed)\n",
    "print(f\"Mean_reward={mean_reward:.2f} +/- {std_reward:.2f}\")"
   ]
  },
  {
   "cell_type": "code",
   "execution_count": 12,
   "metadata": {},
   "outputs": [],
   "source": [
    "def record_video(env, Qtable, out_directory, fps=1):\n",
    "  \"\"\"\n",
    "  Generate a replay video of the agent\n",
    "  :param env\n",
    "  :param Qtable: Qtable of our agent\n",
    "  :param out_directory\n",
    "  :param fps: how many frame per seconds (with taxi-v3 and frozenlake-v1 we use 1)\n",
    "  \"\"\"\n",
    "  images = []\n",
    "  terminated = False\n",
    "  truncated = False\n",
    "  state, info = env.reset(seed=random.randint(0,500))\n",
    "  img = env.render()\n",
    "  images.append(img)\n",
    "  while not terminated or truncated:\n",
    "    # Take the action (index) that have the maximum expected future reward given that state\n",
    "    action = np.argmax(Qtable[state][:])\n",
    "    state, reward, terminated, truncated, info = env.step(action) # We directly put next_state = state for recording logic\n",
    "    img = env.render()\n",
    "    images.append(img)\n",
    "  imageio.mimsave(out_directory, [np.array(img) for i, img in enumerate(images)], fps=fps)"
   ]
  },
  {
   "cell_type": "code",
   "execution_count": 15,
   "metadata": {},
   "outputs": [],
   "source": [
    "abs_path = os.path.abspath('trained_model_videos')\n",
    "video_path = os.path.join(abs_path, 'frozen_lake_v1.mp4')\n",
    "record_video(env, Qtable, video_path, fps= 1)"
   ]
  },
  {
   "cell_type": "markdown",
   "metadata": {},
   "source": [
    "Trained Model"
   ]
  },
  {
   "cell_type": "code",
   "execution_count": 16,
   "metadata": {},
   "outputs": [
    {
     "data": {
      "text/html": [
       "\n",
       "    <video alt=\"test\" controls>\n",
       "        <source src=\"trained_model_videos/frozen_lake_v1.mp4\" type=\"video/mp4\">\n",
       "    </video>\n"
      ],
      "text/plain": [
       "<IPython.core.display.HTML object>"
      ]
     },
     "execution_count": 16,
     "metadata": {},
     "output_type": "execute_result"
    }
   ],
   "source": [
    "from IPython.display import HTML\n",
    "\n",
    "HTML(\"\"\"\n",
    "    <video alt=\"test\" controls>\n",
    "        <source src=\"trained_model_videos/frozen_lake_v1.mp4\" type=\"video/mp4\">\n",
    "    </video>\n",
    "\"\"\")"
   ]
  }
 ],
 "metadata": {
  "kernelspec": {
   "display_name": "rlenv",
   "language": "python",
   "name": "python3"
  },
  "language_info": {
   "codemirror_mode": {
    "name": "ipython",
    "version": 3
   },
   "file_extension": ".py",
   "mimetype": "text/x-python",
   "name": "python",
   "nbconvert_exporter": "python",
   "pygments_lexer": "ipython3",
   "version": "3.12.7"
  }
 },
 "nbformat": 4,
 "nbformat_minor": 2
}
